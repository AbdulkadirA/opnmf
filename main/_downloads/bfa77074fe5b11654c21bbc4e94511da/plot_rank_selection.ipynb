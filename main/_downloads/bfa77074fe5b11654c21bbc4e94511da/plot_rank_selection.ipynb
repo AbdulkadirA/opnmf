{
  "cells": [
    {
      "cell_type": "code",
      "execution_count": null,
      "metadata": {
        "collapsed": false
      },
      "outputs": [],
      "source": [
        "%matplotlib inline"
      ]
    },
    {
      "cell_type": "markdown",
      "metadata": {},
      "source": [
        "\n# Rank Selection\n\nAuthors: Federico Raimondo, Kaustubh Patil\n\nLicense: BSD 3 clause\n"
      ]
    },
    {
      "cell_type": "code",
      "execution_count": null,
      "metadata": {
        "collapsed": false
      },
      "outputs": [],
      "source": [
        "from opnmf.selection import rank_permute\nfrom opnmf.logging import configure_logging\nimport matplotlib.pyplot as plt\nimport seaborn as sns"
      ]
    },
    {
      "cell_type": "markdown",
      "metadata": {},
      "source": [
        "set up logging\n\n"
      ]
    },
    {
      "cell_type": "code",
      "execution_count": null,
      "metadata": {
        "collapsed": false
      },
      "outputs": [],
      "source": [
        "configure_logging('INFO')"
      ]
    },
    {
      "cell_type": "markdown",
      "metadata": {},
      "source": [
        "Load IRIS dataset\n\n"
      ]
    },
    {
      "cell_type": "code",
      "execution_count": null,
      "metadata": {
        "collapsed": false
      },
      "outputs": [],
      "source": [
        "iris = sns.load_dataset(\"iris\")\nfeatures = ['sepal_length', 'sepal_width', 'petal_length', 'petal_width']\nX = iris[features].values.T"
      ]
    },
    {
      "cell_type": "markdown",
      "metadata": {},
      "source": [
        "Find rank. In this example we are bounded by the number\nof features (4)\n\n"
      ]
    },
    {
      "cell_type": "code",
      "execution_count": null,
      "metadata": {
        "collapsed": false
      },
      "outputs": [],
      "source": [
        "min_components = 1\nmax_components = 4\n\nresult = rank_permute(X, min_components, max_components)\n\ngood_ranks, tested_ranks, errors, random_errors, estimators = result"
      ]
    },
    {
      "cell_type": "markdown",
      "metadata": {},
      "source": [
        "Plot the results\n\n"
      ]
    },
    {
      "cell_type": "code",
      "execution_count": null,
      "metadata": {
        "collapsed": false
      },
      "outputs": [],
      "source": [
        "plt.figure()\nplt.title('Rank selection on IRIS dataset')\nplt.plot(tested_ranks, random_errors, label='permuted')\nplt.plot(tested_ranks, errors, label='original')\n\ngood_errors = errors[good_ranks - min_components]\n\nplt.plot(good_ranks, good_errors, label='selected', marker='o', c='r',\n         ls='None')\n\nplt.xticks(tested_ranks)\nplt.xlabel('# Components')\nplt.ylabel('Error')\nplt.legend()\nplt.show()"
      ]
    }
  ],
  "metadata": {
    "kernelspec": {
      "display_name": "Python 3",
      "language": "python",
      "name": "python3"
    },
    "language_info": {
      "codemirror_mode": {
        "name": "ipython",
        "version": 3
      },
      "file_extension": ".py",
      "mimetype": "text/x-python",
      "name": "python",
      "nbconvert_exporter": "python",
      "pygments_lexer": "ipython3",
      "version": "3.8.12"
    }
  },
  "nbformat": 4,
  "nbformat_minor": 0
}