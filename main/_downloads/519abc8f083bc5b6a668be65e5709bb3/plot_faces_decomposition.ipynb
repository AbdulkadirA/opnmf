{
  "cells": [
    {
      "cell_type": "code",
      "execution_count": null,
      "metadata": {
        "collapsed": false
      },
      "outputs": [],
      "source": [
        "%matplotlib inline"
      ]
    },
    {
      "cell_type": "markdown",
      "metadata": {},
      "source": [
        "\n# Faces Decomposition\n\nImplemented based on scikit-learn's decomposition example.\n\nAuthors: Federico Raimondo, Vlad Niculae, Alexandre Gramfort\n\nLicense: BSD 3 clause\n"
      ]
    },
    {
      "cell_type": "code",
      "execution_count": null,
      "metadata": {
        "collapsed": false
      },
      "outputs": [],
      "source": [
        "from numpy.random import RandomState\nimport matplotlib.pyplot as plt\nimport seaborn as sns\n\nfrom sklearn.datasets import fetch_olivetti_faces\nfrom sklearn import decomposition\n\nfrom opnmf import model, logging"
      ]
    },
    {
      "cell_type": "markdown",
      "metadata": {},
      "source": [
        "set up logging\n\n"
      ]
    },
    {
      "cell_type": "code",
      "execution_count": null,
      "metadata": {
        "collapsed": false
      },
      "outputs": [],
      "source": [
        "logging.configure_logging(level='INFO')"
      ]
    },
    {
      "cell_type": "markdown",
      "metadata": {},
      "source": [
        "We will plot 6 faces and factorize to 6 components\n\n"
      ]
    },
    {
      "cell_type": "code",
      "execution_count": null,
      "metadata": {
        "collapsed": false
      },
      "outputs": [],
      "source": [
        "n_row, n_col = 2, 3\nn_components = n_row * n_col\nimage_shape = (64, 64)\nrng = RandomState(0)"
      ]
    },
    {
      "cell_type": "markdown",
      "metadata": {},
      "source": [
        "Load faces data\n\n"
      ]
    },
    {
      "cell_type": "code",
      "execution_count": null,
      "metadata": {
        "collapsed": false
      },
      "outputs": [],
      "source": [
        "faces, _ = fetch_olivetti_faces(return_X_y=True, shuffle=True,\n                                random_state=rng)\nn_samples, n_features = faces.shape\n\nprint(\"Dataset consists of %d faces\" % n_samples)"
      ]
    },
    {
      "cell_type": "markdown",
      "metadata": {},
      "source": [
        "Defile plotting function\n\n"
      ]
    },
    {
      "cell_type": "code",
      "execution_count": null,
      "metadata": {
        "collapsed": false
      },
      "outputs": [],
      "source": [
        "def plot_gallery(title, images, n_col=n_col, n_row=n_row, cmap=plt.cm.gray):\n    plt.figure(figsize=(2. * n_col, 2.26 * n_row))\n    plt.suptitle(title, size=11)\n    for i, comp in enumerate(images):\n        plt.subplot(n_row, n_col, i + 1)\n        vmax = max(comp.max(), -comp.min())\n        plt.imshow(comp.reshape(image_shape), cmap=cmap,\n                   interpolation='nearest',\n                   vmin=-vmax, vmax=vmax)\n        plt.xticks(())\n        plt.yticks(())\n    plt.subplots_adjust(0.01, 0.05, 0.99, 0.93, 0.04, 0.)"
      ]
    },
    {
      "cell_type": "markdown",
      "metadata": {},
      "source": [
        "Let's see how the first 6 faces look (centered around the mean)\nglobal centering\n\n"
      ]
    },
    {
      "cell_type": "code",
      "execution_count": null,
      "metadata": {
        "collapsed": false
      },
      "outputs": [],
      "source": [
        "faces_centered = faces - faces.mean(axis=0)\n# local centering\nfaces_centered -= faces_centered.mean(axis=1).reshape(n_samples, -1)\nplot_gallery(\"First centered Olivetti faces\", faces_centered[:n_components])"
      ]
    },
    {
      "cell_type": "markdown",
      "metadata": {},
      "source": [
        "Lets set some parameters\n\n"
      ]
    },
    {
      "cell_type": "code",
      "execution_count": null,
      "metadata": {
        "collapsed": false
      },
      "outputs": [],
      "source": [
        "init = 'nndsvd'\ntolerance = 5e-3"
      ]
    },
    {
      "cell_type": "markdown",
      "metadata": {},
      "source": [
        "NMF and OPNMF are both bi-factor factorization. The shared idea is that given\na non-negative input matrix $X \\in \\mathbb{R}^{m \\times n}$, one tries\nto find two non-negative matrix $W \\in \\mathbb{R}^{m \\times r}$ and\n$H \\in \\mathbb{R}^{r \\times m}$ such that:\n\n\\begin{align}X \\approx WH\\end{align}\n\nIn scikit-learn's terminology, ``fit_transform`` will return $W$ while\n$H$ will be stored as the ``components_`` attribute of the estimator.\n\n\n"
      ]
    },
    {
      "cell_type": "code",
      "execution_count": null,
      "metadata": {
        "collapsed": false
      },
      "outputs": [],
      "source": [
        "estimator = decomposition.NMF(\n    n_components=n_components, init=init, tol=tolerance)\nW = estimator.fit_transform(faces)\nH = estimator.components_\n\nprint(W.shape)\nprint(H.shape)"
      ]
    },
    {
      "cell_type": "markdown",
      "metadata": {},
      "source": [
        "Now `H` (the components) is a 6 by 4096 matrix (`n_components` x pixels) and\n`W` (the weights) is a 400 by 6 matrix (`n_samples` x `n_components`)\nWe can actually plot the components as images and the weights as a\ncluster map.\n\n"
      ]
    },
    {
      "cell_type": "code",
      "execution_count": null,
      "metadata": {
        "collapsed": false
      },
      "outputs": [],
      "source": [
        "plot_gallery('NMF components (H)', H[:n_components])\n\ng = sns.clustermap(W)\ng.fig.suptitle('NMF weights (W)')\ng.ax_heatmap.set_xlabel('Components')\ng.ax_heatmap.set_ylabel('Subjects')"
      ]
    },
    {
      "cell_type": "markdown",
      "metadata": {},
      "source": [
        "Contrary to NMF, Projected Non-Negative Matrix Factorization (PNF), is\ndefined such that:\n\n\\begin{align}X \\approx PX\\end{align}\n\nwhere $P = WW^{T}$.\n\nThis expands to:\n\n\\begin{align}X \\approx WW^{T}X\\end{align}\n\nIn consecuence $H=W^{T}X$\n\nThe Orthonormal Projected Non-Negative Matrix Factorization (OPNMF), adds\nanother constraint to $W$: orthonormality.\n\nLet's do the same figures as with NMF\n\n"
      ]
    },
    {
      "cell_type": "code",
      "execution_count": null,
      "metadata": {
        "collapsed": false
      },
      "outputs": [],
      "source": [
        "estimator = model.OPNMF(n_components=n_components, init=init, tol=tolerance)\nW = estimator.fit_transform(faces)\nH = estimator.components_\nplot_gallery('OPNMF components (H)', H[:n_components])\n\ng = sns.clustermap(W)\ng.fig.suptitle('OPNMF weights (W)')\ng.ax_heatmap.set_xlabel('Components')\ng.ax_heatmap.set_ylabel('Subjects')"
      ]
    },
    {
      "cell_type": "markdown",
      "metadata": {},
      "source": [
        "From these plots, we can see that OPNMF seems to do some sort of clustering\nover the first dimension of X. As the orthonormality constraint forces\nevery subject to have a positive weight with at most one component, it\ndefines components in a way that each subject matches only one.\n\nInterestingly, we can use this methodology to do so on the other dimension\n(pixels in the image)\n\n"
      ]
    },
    {
      "cell_type": "code",
      "execution_count": null,
      "metadata": {
        "collapsed": false
      },
      "outputs": [],
      "source": [
        "estimator = model.OPNMF(n_components=n_components, init=init, tol=tolerance)\nW = estimator.fit_transform(faces.T)  # Transpose the faces\nH = estimator.components_\n\nprint(W.shape)\nprint(H.shape)"
      ]
    },
    {
      "cell_type": "markdown",
      "metadata": {},
      "source": [
        "In this case, `H` (the components) is a 6 by 400 matrix\n(`n_components` x `n_samples`) and `W` (the weights) is a 4096 by 6 matrix\n(pixels x `n_components`). So now we can plot `W` as images and `H` as\na cluster map.\n\n"
      ]
    },
    {
      "cell_type": "code",
      "execution_count": null,
      "metadata": {
        "collapsed": false
      },
      "outputs": [],
      "source": [
        "plot_gallery('OPNMF weights (W, transposed)', W[:, :n_components].T)\n\ng = sns.clustermap(W)\ng.fig.suptitle('OPNMF components (W)')\ng.ax_heatmap.set_xlabel('Components')\ng.ax_heatmap.set_ylabel('Subjects')"
      ]
    },
    {
      "cell_type": "markdown",
      "metadata": {},
      "source": [
        "We can also do the same with NMF, but there will be no effect.\nAssuming $X^T=\\tilde{X}$ and the following NMF:\n\n\\begin{align}\\tilde{X} \\approx \\tilde{W}\\tilde{H}\\end{align}\n\nThen the solution $X \\approx WH$ can be also used:\n\n\\begin{align}\\end{align}\n \\tilde{X} = X^T \\approx (WH)^T\n\nwhich expands to:\n\n\\begin{align}\\end{align}\n \\tilde{X} = X^T \\approx H^TW^T\n\nSo from the first formula: $\\tilde{W}=H^T$ and $\\tilde{H}=W^T$\n\n\n"
      ]
    },
    {
      "cell_type": "code",
      "execution_count": null,
      "metadata": {
        "collapsed": false
      },
      "outputs": [],
      "source": [
        "estimator = decomposition.NMF(\n    n_components=n_components, init=init, tol=tolerance)\nW = estimator.fit_transform(faces.T)  # Transpose the faces\nH = estimator.components_\n\nplot_gallery('NMF weights (W, transposed)', W[:, :n_components].T)\n\ng = sns.clustermap(W)\ng.fig.suptitle('NMF components (W)')\ng.ax_heatmap.set_xlabel('Components')\ng.ax_heatmap.set_ylabel('Subjects')"
      ]
    },
    {
      "cell_type": "markdown",
      "metadata": {},
      "source": [
        "If you want to follow the original explanaition with much more math, see:\n\nZ. Yang and E. Oja, \"Linear and Nonlinear Projective Nonnegative Matrix\nFactorization,\" in IEEE Transactions on Neural Networks, vol. 21, no. 5,\npp. 734-749, May 2010, doi: 10.1109/TNN.2010.2041361.\n\n"
      ]
    },
    {
      "cell_type": "code",
      "execution_count": null,
      "metadata": {
        "collapsed": false
      },
      "outputs": [],
      "source": [
        "plt.show()"
      ]
    }
  ],
  "metadata": {
    "kernelspec": {
      "display_name": "Python 3",
      "language": "python",
      "name": "python3"
    },
    "language_info": {
      "codemirror_mode": {
        "name": "ipython",
        "version": 3
      },
      "file_extension": ".py",
      "mimetype": "text/x-python",
      "name": "python",
      "nbconvert_exporter": "python",
      "pygments_lexer": "ipython3",
      "version": "3.8.12"
    }
  },
  "nbformat": 4,
  "nbformat_minor": 0
}